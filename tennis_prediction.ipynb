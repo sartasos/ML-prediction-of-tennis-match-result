{
 "cells": [
  {
   "cell_type": "code",
   "execution_count": 1,
   "id": "comfortable-endorsement",
   "metadata": {},
   "outputs": [],
   "source": [
    "import numpy as np\n",
    "import pandas as pd\n",
    "from sklearn.model_selection import train_test_split\n",
    "from sklearn.preprocessing import StandardScaler\n",
    "from sklearn.metrics import confusion_matrix, accuracy_score\n",
    "import datetime\n",
    "import seaborn as sns\n",
    "import matplotlib.pyplot as plt\n",
    "from sklearn.metrics import classification_report\n",
    "from sklearn.svm import SVC\n",
    "from sklearn.tree import DecisionTreeClassifier\n",
    "from sklearn.ensemble import RandomForestClassifier\n",
    "from sklearn.naive_bayes import GaussianNB\n",
    "from sklearn.neighbors import KNeighborsClassifier\n",
    "from xgboost import XGBClassifier\n",
    "from pandas.plotting import scatter_matrix\n",
    "import plotly.express as px\n",
    "import plotly.graph_objects as go\n",
    "import plotly.figure_factory as ff\n",
    "from plotly.offline import download_plotlyjs, init_notebook_mode,  plot\n",
    "from plotly.graph_objs import *\n",
    "from sklearn import preprocessing\n",
    "from sklearn.model_selection import KFold\n",
    "from sklearn.model_selection import cross_val_score , cross_validate\n",
    "from sklearn.metrics import make_scorer, accuracy_score, precision_score, recall_score, f1_score"
   ]
  },
  {
   "cell_type": "code",
   "execution_count": 2,
   "id": "rough-congo",
   "metadata": {},
   "outputs": [
    {
     "name": "stdout",
     "output_type": "stream",
     "text": [
      "<class 'pandas.core.frame.DataFrame'>\n",
      "RangeIndex: 29340 entries, 0 to 29339\n",
      "Data columns (total 49 columns):\n",
      " #   Column              Non-Null Count  Dtype  \n",
      "---  ------              --------------  -----  \n",
      " 0   tourney_id          29340 non-null  object \n",
      " 1   tourney_name        29340 non-null  object \n",
      " 2   surface             29142 non-null  object \n",
      " 3   draw_size           29340 non-null  int64  \n",
      " 4   tourney_level       29340 non-null  object \n",
      " 5   tourney_date        29340 non-null  int64  \n",
      " 6   match_num           29340 non-null  int64  \n",
      " 7   winner_id           29340 non-null  int64  \n",
      " 8   winner_seed         12627 non-null  float64\n",
      " 9   winner_entry        3520 non-null   object \n",
      " 10  winner_name         29340 non-null  object \n",
      " 11  winner_hand         29324 non-null  object \n",
      " 12  winner_ht           25044 non-null  float64\n",
      " 13  winner_ioc          29340 non-null  object \n",
      " 14  winner_age          29336 non-null  float64\n",
      " 15  loser_id            29340 non-null  int64  \n",
      " 16  loser_seed          6962 non-null   float64\n",
      " 17  loser_entry         5871 non-null   object \n",
      " 18  loser_name          29340 non-null  object \n",
      " 19  loser_hand          29294 non-null  object \n",
      " 20  loser_ht            23151 non-null  float64\n",
      " 21  loser_ioc           29340 non-null  object \n",
      " 22  loser_age           29325 non-null  float64\n",
      " 23  score               29340 non-null  object \n",
      " 24  best_of             29340 non-null  int64  \n",
      " 25  round               29340 non-null  object \n",
      " 26  minutes             25848 non-null  float64\n",
      " 27  w_ace               27173 non-null  float64\n",
      " 28  w_df                27173 non-null  float64\n",
      " 29  w_svpt              27173 non-null  float64\n",
      " 30  w_1stIn             27173 non-null  float64\n",
      " 31  w_1stWon            27173 non-null  float64\n",
      " 32  w_2ndWon            27173 non-null  float64\n",
      " 33  w_SvGms             27173 non-null  float64\n",
      " 34  w_bpSaved           27173 non-null  float64\n",
      " 35  w_bpFaced           27173 non-null  float64\n",
      " 36  l_ace               27173 non-null  float64\n",
      " 37  l_df                27173 non-null  float64\n",
      " 38  l_svpt              27173 non-null  float64\n",
      " 39  l_1stIn             27173 non-null  float64\n",
      " 40  l_1stWon            27173 non-null  float64\n",
      " 41  l_2ndWon            27173 non-null  float64\n",
      " 42  l_SvGms             27173 non-null  float64\n",
      " 43  l_bpSaved           27173 non-null  float64\n",
      " 44  l_bpFaced           27173 non-null  float64\n",
      " 45  winner_rank         29142 non-null  float64\n",
      " 46  winner_rank_points  29142 non-null  float64\n",
      " 47  loser_rank          28819 non-null  float64\n",
      " 48  loser_rank_points   28819 non-null  float64\n",
      "dtypes: float64(29), int64(6), object(14)\n",
      "memory usage: 11.0+ MB\n"
     ]
    }
   ],
   "source": [
    "# load dataset and check columns\n",
    "url = 'https://raw.githubusercontent.com/sartasos/ML-prediction-of-tennis-match-result/main/stats.csv'\n",
    "df = pd.read_csv(url)\n",
    "df.info()"
   ]
  },
  {
   "cell_type": "code",
   "execution_count": 3,
   "id": "protected-trail",
   "metadata": {},
   "outputs": [
    {
     "name": "stdout",
     "output_type": "stream",
     "text": [
      "<class 'pandas.core.frame.DataFrame'>\n",
      "RangeIndex: 29340 entries, 0 to 29339\n",
      "Data columns (total 16 columns):\n",
      " #   Column              Non-Null Count  Dtype  \n",
      "---  ------              --------------  -----  \n",
      " 0   surface             29142 non-null  object \n",
      " 1   draw_size           29340 non-null  int64  \n",
      " 2   tourney_level       29340 non-null  object \n",
      " 3   tourney_date        29340 non-null  int64  \n",
      " 4   winner_hand         29324 non-null  object \n",
      " 5   winner_ht           25044 non-null  float64\n",
      " 6   winner_ioc          29340 non-null  object \n",
      " 7   winner_age          29336 non-null  float64\n",
      " 8   loser_hand          29294 non-null  object \n",
      " 9   loser_ht            23151 non-null  float64\n",
      " 10  loser_ioc           29340 non-null  object \n",
      " 11  loser_age           29325 non-null  float64\n",
      " 12  best_of             29340 non-null  int64  \n",
      " 13  round               29340 non-null  object \n",
      " 14  winner_rank_points  29142 non-null  float64\n",
      " 15  loser_rank_points   28819 non-null  float64\n",
      "dtypes: float64(6), int64(3), object(7)\n",
      "memory usage: 3.6+ MB\n"
     ]
    }
   ],
   "source": [
    "# remove columns with stats that we cannot know before the match (eg \"score\", \"minutes\", \"l_1stWon\" etc)\n",
    "# also remove columns that we do not need (eg \"winner_name\",\"loser_name\" etc)\n",
    "df = df.drop(columns=[\"score\", \"tourney_name\", \"minutes\", \"l_1stIn\", \"l_1stWon\", \"l_2ndWon\", \"l_ace\", \"l_svpt\",\n",
    "                      \"l_SvGms\", \"l_bpFaced\", \"l_df\", \"l_bpSaved\", \"w_1stIn\", \"w_1stWon\", \"w_2ndWon\", \"w_ace\",\n",
    "                      \"w_svpt\", \"w_SvGms\", \"w_bpFaced\", \"w_df\", \"w_bpSaved\", \"winner_name\", \"loser_name\",\n",
    "                      \"winner_entry\", \"loser_entry\", \"tourney_id\", \"match_num\", \"winner_id\", \"winner_seed\", \"loser_id\",\n",
    "                      \"loser_seed\", \"winner_rank\", \"loser_rank\"])\n",
    "df.info()"
   ]
  },
  {
   "cell_type": "code",
   "execution_count": 4,
   "id": "cooked-central",
   "metadata": {},
   "outputs": [
    {
     "name": "stdout",
     "output_type": "stream",
     "text": [
      "          Feature Name  Zero values count  Zero values percent\n",
      "0              surface                198             0.674847\n",
      "1            draw_size                  0             0.000000\n",
      "2        tourney_level                  0             0.000000\n",
      "3         tourney_date                  0             0.000000\n",
      "4          winner_hand                 16             0.054533\n",
      "5            winner_ht               4296            14.642127\n",
      "6           winner_ioc                  0             0.000000\n",
      "7           winner_age                  4             0.013633\n",
      "8           loser_hand                 46             0.156783\n",
      "9             loser_ht               6189            21.094070\n",
      "10           loser_ioc                  0             0.000000\n",
      "11           loser_age                 15             0.051125\n",
      "12             best_of                  0             0.000000\n",
      "13               round                  0             0.000000\n",
      "14  winner_rank_points                198             0.674847\n",
      "15   loser_rank_points                521             1.775733\n"
     ]
    }
   ],
   "source": [
    "# check null values for every column\n",
    "zero_percent = df.isnull().sum() * 100 / len(df)\n",
    "zero_values_df = pd.DataFrame({\"Feature Name\": df.columns, \"Zero values count\": df.isnull().sum(),\n",
    "                               \"Zero values percent\": zero_percent})\n",
    "print(zero_values_df.reset_index().drop(columns=[\"index\"]))\n",
    "\n",
    "#there are not many columns with null values, so no action"
   ]
  },
  {
   "cell_type": "code",
   "execution_count": 5,
   "id": "known-finger",
   "metadata": {},
   "outputs": [
    {
     "name": "stdout",
     "output_type": "stream",
     "text": [
      "<class 'pandas.core.frame.DataFrame'>\n",
      "RangeIndex: 28554 entries, 0 to 28553\n",
      "Data columns (total 16 columns):\n",
      " #   Column              Non-Null Count  Dtype  \n",
      "---  ------              --------------  -----  \n",
      " 0   surface             28554 non-null  object \n",
      " 1   draw_size           28554 non-null  int64  \n",
      " 2   tourney_level       28554 non-null  object \n",
      " 3   tourney_date        28554 non-null  int64  \n",
      " 4   winner_hand         28550 non-null  object \n",
      " 5   winner_ht           24766 non-null  float64\n",
      " 6   winner_ioc          28554 non-null  object \n",
      " 7   winner_age          28553 non-null  float64\n",
      " 8   loser_hand          28547 non-null  object \n",
      " 9   loser_ht            23015 non-null  float64\n",
      " 10  loser_ioc           28554 non-null  object \n",
      " 11  loser_age           28553 non-null  float64\n",
      " 12  best_of             28554 non-null  int64  \n",
      " 13  round               28554 non-null  object \n",
      " 14  winner_rank_points  28554 non-null  float64\n",
      " 15  loser_rank_points   28554 non-null  float64\n",
      "dtypes: float64(6), int64(3), object(7)\n",
      "memory usage: 3.5+ MB\n"
     ]
    }
   ],
   "source": [
    "# rank points and surface are considered as important features, \n",
    "# therefore remove entries that do not contain info about rank points and surface\n",
    "df.dropna(subset=[\"winner_rank_points\", \"loser_rank_points\", \"surface\"], inplace=True)\n",
    "df = df.reset_index(drop=True)\n",
    "df.info()"
   ]
  },
  {
   "cell_type": "code",
   "execution_count": 6,
   "id": "rising-cylinder",
   "metadata": {},
   "outputs": [
    {
     "name": "stdout",
     "output_type": "stream",
     "text": [
      "<class 'pandas.core.frame.DataFrame'>\n",
      "RangeIndex: 28554 entries, 0 to 28553\n",
      "Data columns (total 17 columns):\n",
      " #   Column              Non-Null Count  Dtype  \n",
      "---  ------              --------------  -----  \n",
      " 0   surface             28554 non-null  object \n",
      " 1   draw_size           28554 non-null  int64  \n",
      " 2   tourney_level       28554 non-null  object \n",
      " 3   winner_hand         28550 non-null  object \n",
      " 4   winner_ht           24766 non-null  float64\n",
      " 5   winner_ioc          28554 non-null  object \n",
      " 6   winner_age          28553 non-null  float64\n",
      " 7   loser_hand          28547 non-null  object \n",
      " 8   loser_ht            23015 non-null  float64\n",
      " 9   loser_ioc           28554 non-null  object \n",
      " 10  loser_age           28553 non-null  float64\n",
      " 11  best_of             28554 non-null  int64  \n",
      " 12  round               28554 non-null  object \n",
      " 13  winner_rank_points  28554 non-null  float64\n",
      " 14  loser_rank_points   28554 non-null  float64\n",
      " 15  tourney-year        28554 non-null  int32  \n",
      " 16  tourney-month       28554 non-null  int32  \n",
      "dtypes: float64(6), int32(2), int64(2), object(7)\n",
      "memory usage: 3.5+ MB\n"
     ]
    }
   ],
   "source": [
    "# convert \"tourney_date\" column to new columns of \"year\" and \"month\"\n",
    "df[\"tourney-year\"] = df.tourney_date.astype(str).str[:4].astype(int)        #year column\n",
    "df[\"tourney-month\"] = df.tourney_date.astype(str).str[4:6].astype(int)      #month column\n",
    "df = df.drop(columns=[\"tourney_date\"])                                      #remove old tourney_date column\n",
    "df.info()"
   ]
  },
  {
   "cell_type": "code",
   "execution_count": 7,
   "id": "immediate-anatomy",
   "metadata": {},
   "outputs": [
    {
     "name": "stdout",
     "output_type": "stream",
     "text": [
      "<class 'pandas.core.frame.DataFrame'>\n",
      "RangeIndex: 57108 entries, 0 to 57107\n",
      "Data columns (total 18 columns):\n",
      " #   Column              Non-Null Count  Dtype  \n",
      "---  ------              --------------  -----  \n",
      " 0   surface             57108 non-null  object \n",
      " 1   draw_size           57108 non-null  int64  \n",
      " 2   tourney_level       57108 non-null  object \n",
      " 3   second_hand         57097 non-null  object \n",
      " 4   second_ht           47781 non-null  float64\n",
      " 5   second_ioc          57108 non-null  object \n",
      " 6   second_age          57106 non-null  float64\n",
      " 7   first_hand          57097 non-null  object \n",
      " 8   first_ht            47781 non-null  float64\n",
      " 9   first_ioc           57108 non-null  object \n",
      " 10  first_age           57106 non-null  float64\n",
      " 11  best_of             57108 non-null  int64  \n",
      " 12  round               57108 non-null  object \n",
      " 13  second_rank_points  57108 non-null  float64\n",
      " 14  first_rank_points   57108 non-null  float64\n",
      " 15  tourney-year        57108 non-null  int32  \n",
      " 16  tourney-month       57108 non-null  int32  \n",
      " 17  label               57108 non-null  float64\n",
      "dtypes: float64(7), int32(2), int64(2), object(7)\n",
      "memory usage: 7.4+ MB\n"
     ]
    }
   ],
   "source": [
    "# transform our data so that we have 2 players (first & second),their personal information (hand, age, etc)\n",
    "# and general information about the match and the tourney. \n",
    "\n",
    "\n",
    "df = df.rename(columns={\"loser_age\": \"first_age\", \"loser_hand\": \"first_hand\", \"loser_ht\": \"first_ht\", \"loser_ioc\": \"first_ioc\",\n",
    "                        \"loser_rank_points\": \"first_rank_points\",\n",
    "                        \"winner_age\": \"second_age\",  \"winner_hand\": \"second_hand\", \"winner_ht\": \"second_ht\",\n",
    "                        \"winner_ioc\": \"second_ioc\", \"winner_rank_points\": \"second_rank_points\"\n",
    "                        })\n",
    "\n",
    "# then create 2nd copy with inverse positions\n",
    "copy_2_df = df.copy()\n",
    "copy_2_df[['first_age','first_hand','first_ht','first_ioc','first_rank_points',\n",
    "            'second_age','second_hand','second_ht','second_ioc','second_rank_points']]\\\n",
    "=copy_2_df[['second_age','second_hand','second_ht','second_ioc','second_rank_points',\n",
    "             'first_age','first_hand','first_ht','first_ioc','first_rank_points']]\n",
    "\n",
    "\n",
    "# finally create a column \"label\" in each copy which is equal to 0 if first player wins, or 1 if second player wins\n",
    "\n",
    "winner_player1 = np.zeros(copy_2_df.shape[0])  # if 1st player wins then label = 0\n",
    "copy_2_df['label'] = winner_player1\n",
    "\n",
    "winner_player2 = np.ones(df.shape[0])  #if 2nd player wins then label = 1\n",
    "df['label'] = winner_player2\n",
    "\n",
    "# merge the two copies\n",
    "df = pd.concat([df,copy_2_df])\n",
    "\n",
    "# shuffle data\n",
    "df = df.sample(frac=1).reset_index(drop=True) \n",
    "df.info()"
   ]
  },
  {
   "cell_type": "code",
   "execution_count": 8,
   "id": "lovely-emission",
   "metadata": {},
   "outputs": [],
   "source": [
    "# height columns have some null values, so we will fill those values with the columns' mean\n",
    "df['second_ht'] = df['second_ht'].fillna(df['second_ht'].mean())\n",
    "df['first_ht'] = df['first_ht'].fillna(df['first_ht'].mean())\n",
    "\n",
    "#remove missing values\n",
    "df = df.dropna()"
   ]
  },
  {
   "cell_type": "code",
   "execution_count": 9,
   "id": "outdoor-jimmy",
   "metadata": {},
   "outputs": [
    {
     "data": {
      "image/png": "[encoded data removed]",
      "text/plain": [
       "<Figure size 1440x1080 with 2 Axes>"
      ]
     },
     "metadata": {
      "needs_background": "light"
     },
     "output_type": "display_data"
    }
   ],
   "source": [
    "# show correlations\n",
    "\n",
    "correlations = df.corr()\n",
    "plt.figure(figsize=(20,15))\n",
    "sns.heatmap(df.corr(), annot=True)\n",
    "plt.show()"
   ]
  },
  {
   "cell_type": "code",
   "execution_count": 10,
   "id": "advance-toner",
   "metadata": {},
   "outputs": [
    {
     "name": "stdout",
     "output_type": "stream",
     "text": [
      "<class 'pandas.core.frame.DataFrame'>\n",
      "Int64Index: 57082 entries, 0 to 57107\n",
      "Data columns (total 18 columns):\n",
      " #   Column              Non-Null Count  Dtype  \n",
      "---  ------              --------------  -----  \n",
      " 0   surface             57082 non-null  object \n",
      " 1   draw_size           57082 non-null  int64  \n",
      " 2   tourney_level       57082 non-null  object \n",
      " 3   second_hand         57082 non-null  object \n",
      " 4   second_ht           57082 non-null  float64\n",
      " 5   second_ioc          57082 non-null  object \n",
      " 6   second_age          57082 non-null  float64\n",
      " 7   first_hand          57082 non-null  object \n",
      " 8   first_ht            57082 non-null  float64\n",
      " 9   first_ioc           57082 non-null  object \n",
      " 10  first_age           57082 non-null  float64\n",
      " 11  best_of             57082 non-null  int64  \n",
      " 12  round               57082 non-null  object \n",
      " 13  second_rank_points  57082 non-null  float64\n",
      " 14  first_rank_points   57082 non-null  float64\n",
      " 15  tourney-year        57082 non-null  int32  \n",
      " 16  tourney-month       57082 non-null  int32  \n",
      " 17  label               57082 non-null  float64\n",
      "dtypes: float64(7), int32(2), int64(2), object(7)\n",
      "memory usage: 7.8+ MB\n",
      "<class 'pandas.core.frame.DataFrame'>\n",
      "Int64Index: 57082 entries, 0 to 57107\n",
      "Columns: 210 entries, draw_size to SF\n",
      "dtypes: float64(7), int32(2), int64(2), uint8(199)\n",
      "memory usage: 15.6 MB\n"
     ]
    }
   ],
   "source": [
    "df.info()\n",
    "\n",
    "# use pandas.get_dummies to turn columns with categorical values to numerical\n",
    "dataset1 = pd.get_dummies(df['second_hand'] , drop_first=True)\n",
    "dataset2 = pd.get_dummies(df['first_hand'], drop_first=True)\n",
    "dataset3 = pd.get_dummies(df['second_ioc'], drop_first=True)\n",
    "dataset4 = pd.get_dummies(df['first_ioc'], drop_first=True)\n",
    "dataset5 = pd.get_dummies(df['surface'], drop_first=True)\n",
    "dataset6 = pd.get_dummies(df['tourney_level'], drop_first=True)\n",
    "dataset7 = pd.get_dummies(df['round'], drop_first=True)\n",
    "\n",
    "# merge the two datasets\n",
    "merged = pd.concat([df,dataset1,dataset2,dataset3,dataset4,dataset5,dataset6,dataset7],axis='columns' )\n",
    "\n",
    "# remove old columns with categorical values\n",
    "df = merged.drop(['second_hand','first_hand','second_ioc','first_ioc','surface','tourney_level','round'], axis='columns')\n",
    "df.info()"
   ]
  },
  {
   "cell_type": "code",
   "execution_count": 11,
   "id": "dress-declaration",
   "metadata": {},
   "outputs": [
    {
     "name": "stdout",
     "output_type": "stream",
     "text": [
      "class 0: 28541\n",
      "class 1: 28541\n"
     ]
    },
    {
     "data": {
      "image/png": "[encoded data removed]",
      "text/plain": [
       "<Figure size 432x288 with 1 Axes>"
      ]
     },
     "metadata": {
      "needs_background": "light"
     },
     "output_type": "display_data"
    }
   ],
   "source": [
    "# check how labels are distributed in our dataset\n",
    "class_count_01, class_count_02 = df['label'].value_counts()\n",
    "df['label'].value_counts().plot(kind='bar', title='count (target)')\n",
    "print('class 0:', class_count_02)\n",
    "print('class 1:', class_count_01)"
   ]
  },
  {
   "cell_type": "code",
   "execution_count": null,
   "id": "flying-capital",
   "metadata": {},
   "outputs": [],
   "source": [
    "################## HISTOGRAMS ##################\n",
    "'''\n",
    "hist_data = [df['second_rank_points']]\n",
    "group_labels = ['second_rank_points'] \n",
    "fig = ff.create_distplot(hist_data, group_labels)\n",
    "fig.show()\n",
    "\n",
    "hist_data = [df['first_rank_points']]\n",
    "group_labels = ['first_rank_points'] \n",
    "fig = ff.create_distplot(hist_data, group_labels)\n",
    "fig.show()\n",
    "\n",
    "hist_data = [df['second_ht']]\n",
    "group_labels = ['second_ht'] \n",
    "fig = ff.create_distplot(hist_data, group_labels)\n",
    "fig.show()\n",
    "\n",
    "hist_data = [df['first_ht']]\n",
    "group_labels = ['first_ht']\n",
    "fig = ff.create_distplot(hist_data, group_labels)\n",
    "fig.show()\n",
    "\n",
    "hist_data = [df['second_age']]\n",
    "group_labels = ['second_age'] \n",
    "fig = ff.create_distplot(hist_data, group_labels)\n",
    "fig.show()\n",
    "\n",
    "hist_data = [df['first_age']]\n",
    "group_labels = ['first_age'] \n",
    "fig = ff.create_distplot(hist_data, group_labels)\n",
    "fig.show()\n",
    "'''"
   ]
  },
  {
   "cell_type": "code",
   "execution_count": 12,
   "id": "light-rover",
   "metadata": {},
   "outputs": [],
   "source": [
    "# train-test split to fit and evaluate our models\n",
    "y = df['label'].values\n",
    "X = df.drop(['label'],axis='columns').values\n",
    "X_train, X_test, y_train, y_test = train_test_split(X, y, test_size = 0.2)  #, random_state = 0)\n",
    "\n",
    "# standardize features\n",
    "sc = StandardScaler()\n",
    "X_train = sc.fit_transform(X_train)\n",
    "X_test = sc.transform(X_test)"
   ]
  },
  {
   "cell_type": "code",
   "execution_count": 13,
   "id": "familiar-treatment",
   "metadata": {},
   "outputs": [
    {
     "name": "stdout",
     "output_type": "stream",
     "text": [
      "Confusion Matrix:\n",
      " [[3815 1899]\n",
      " [2897 2806]]\n",
      "Accuracy Score:\n",
      " 0.5799246737321538\n",
      "Training set score: 0.599\n",
      "Test set score: 0.580\n",
      "              precision    recall  f1-score   support\n",
      "\n",
      "         0.0       0.57      0.67      0.61      5714\n",
      "         1.0       0.60      0.49      0.54      5703\n",
      "\n",
      "    accuracy                           0.58     11417\n",
      "   macro avg       0.58      0.58      0.58     11417\n",
      "weighted avg       0.58      0.58      0.58     11417\n",
      "\n"
     ]
    },
    {
     "data": {
      "text/plain": [
       "array([[-2.70749512e-03, -3.75152217e-02, -1.29524873e-02,\n",
       "         4.22411493e-02,  1.82798075e-02, -3.42669793e-03,\n",
       "        -2.11601691e-01,  2.15544559e-01, -1.57148640e-03,\n",
       "         1.58175814e-03, -2.45812995e-02,  4.65124400e-02,\n",
       "         2.65499802e-02, -4.99665834e-02,  1.21312346e-03,\n",
       "        -3.06560353e-03,  1.70347443e-02, -7.77165473e-03,\n",
       "        -3.81727351e-03,  4.02460013e-03,  8.83525439e-04,\n",
       "         4.36363132e-03,  8.47485894e-03,  2.29749617e-02,\n",
       "        -1.61726261e-02, -1.04944421e-02,  1.26551383e-03,\n",
       "         2.02164042e-02,  1.51653338e-02,  4.68190130e-03,\n",
       "        -1.66078443e-02, -5.63462826e-03, -1.51290682e-02,\n",
       "         5.00637571e-03,  6.35176289e-03,  1.12741340e-02,\n",
       "         1.21610268e-02, -5.36535855e-03, -4.33329175e-02,\n",
       "         9.68355634e-03,  7.02124897e-03, -5.69543745e-03,\n",
       "        -2.99420147e-02,  1.50629393e-03,  2.16928146e-02,\n",
       "        -9.56400637e-03,  4.41868211e-03,  2.76201656e-06,\n",
       "         2.70445816e-03,  3.05624550e-03,  5.13533740e-03,\n",
       "         1.98198888e-02,  3.82480705e-03,  7.68672200e-03,\n",
       "         1.56234341e-02,  2.57692513e-02, -9.19799417e-03,\n",
       "         1.97034316e-02, -2.86259259e-03,  5.40944944e-03,\n",
       "         5.58436492e-04,  1.25307033e-02, -2.43691129e-03,\n",
       "         2.09591870e-03,  9.57018302e-03,  4.68190130e-03,\n",
       "         5.68233496e-03,  1.02340981e-02,  3.82480705e-03,\n",
       "         3.96412247e-03,  1.70392728e-02,  3.90103140e-03,\n",
       "         6.02920005e-03,  4.68456672e-03,  3.89921692e-03,\n",
       "         4.56473088e-03,  7.83125407e-03,  1.45173825e-02,\n",
       "         1.64127243e-02,  2.25512769e-06,  8.10946852e-03,\n",
       "         1.64865433e-02, -1.32544999e-02,  1.77036118e-02,\n",
       "         1.48502829e-02,  1.04695081e-02, -5.11272820e-02,\n",
       "         1.59458116e-06, -6.08840314e-02,  1.77287408e-02,\n",
       "         3.35670506e-03,  8.84939552e-03,  3.42325973e-03,\n",
       "         1.46615121e-02,  1.30391426e-02,  2.44353947e-02,\n",
       "         4.68190130e-03,  9.64252473e-03,  2.96328285e-04,\n",
       "         1.31059948e-02,  1.13216359e-02,  5.00637571e-03,\n",
       "         2.70445816e-03,  3.63063526e-03, -1.06913911e-03,\n",
       "         4.72870367e-03, -2.21602407e-02,  5.56545839e-03,\n",
       "         5.52512230e-06, -6.60530755e-03, -1.68930612e-03,\n",
       "        -6.89098805e-03, -1.06278609e-02, -2.16595908e-02,\n",
       "         1.41342602e-02,  1.12591511e-02, -4.01405613e-03,\n",
       "        -2.44174257e-02, -1.83413888e-02, -4.67964625e-03,\n",
       "         1.41227146e-02,  2.90420357e-03,  1.59352013e-02,\n",
       "        -5.77335780e-03, -1.31427139e-02, -1.37844211e-02,\n",
       "        -1.40409382e-02,  1.02682044e-03,  3.78089024e-02,\n",
       "        -9.83140226e-03, -6.62131941e-03,  1.03845821e-02,\n",
       "         3.39481005e-02, -4.15557472e-03, -1.66271742e-02,\n",
       "         8.11201947e-03, -5.98375343e-03,  2.70445816e-03,\n",
       "        -4.67867241e-03, -2.28301989e-03, -8.84247921e-03,\n",
       "        -2.17364962e-02, -4.67780097e-03, -1.12882881e-02,\n",
       "        -1.38394608e-02, -2.24551478e-02,  1.19333751e-02,\n",
       "        -2.00403278e-02,  3.77466724e-04, -2.95710714e-03,\n",
       "         1.64110162e-03, -8.65166742e-03,  5.73796478e-03,\n",
       "        -4.67867241e-03, -1.30358934e-02, -6.61809166e-03,\n",
       "        -5.82637324e-03, -1.45034859e-02, -3.81928302e-03,\n",
       "         6.57693146e-06, -1.83780013e-02, -7.43016019e-03,\n",
       "        -9.45561664e-03, -2.95710714e-03, -4.23064286e-03,\n",
       "        -2.18678043e-03, -6.08017756e-03, -1.24072658e-02,\n",
       "        -1.85321987e-02, -3.81928302e-03, -8.10556257e-03,\n",
       "        -2.26322762e-02,  1.86665980e-02, -1.04452010e-02,\n",
       "        -1.48885361e-02, -1.04644655e-02,  5.40135506e-02,\n",
       "         1.59458116e-06,  6.45021727e-02, -1.90556578e-02,\n",
       "        -2.97465846e-03, -5.30486395e-03, -2.64129019e-03,\n",
       "        -1.46885867e-02, -1.64044284e-02, -2.24808214e-02,\n",
       "        -4.67964625e-03, -1.12526773e-02,  1.10062082e-03,\n",
       "        -1.59946184e-02, -1.08142304e-02, -1.09627936e-02,\n",
       "         1.59458116e-06, -4.23064286e-03,  3.04179353e-03,\n",
       "        -1.92933093e-04, -2.77638785e-03,  6.72680799e-05,\n",
       "         2.07563590e-03, -4.91961461e-03,  4.02339887e-03,\n",
       "        -6.84127985e-03, -1.14451145e-03, -1.23548733e-03,\n",
       "         4.76471907e-03,  6.97197087e-05, -2.28702386e-03,\n",
       "         1.45046670e-03,  1.51567157e-03],\n",
       "       [ 2.70619105e-03,  3.74971524e-02,  1.29462487e-02,\n",
       "        -4.22208037e-02, -1.82710030e-02,  3.42504745e-03,\n",
       "         2.11499772e-01, -2.15440741e-01,  1.57072949e-03,\n",
       "        -1.58099628e-03,  2.45694598e-02, -4.64900371e-02,\n",
       "        -2.65371923e-02,  4.99425168e-02, -1.21253916e-03,\n",
       "         3.06412697e-03, -1.70265395e-02,  7.76791148e-03,\n",
       "         3.81543491e-03, -4.02266166e-03, -8.83099886e-04,\n",
       "        -4.36152956e-03, -8.47077699e-03, -2.29638957e-02,\n",
       "         1.61648365e-02,  1.04893874e-02, -1.26490430e-03,\n",
       "        -2.02066669e-02, -1.51580293e-02, -4.67964625e-03,\n",
       "         1.65998450e-02,  5.63191433e-03,  1.51217813e-02,\n",
       "        -5.00396438e-03, -6.34870354e-03, -1.12687037e-02,\n",
       "        -1.21551694e-02,  5.36277431e-03,  4.33120461e-02,\n",
       "        -9.67889222e-03, -7.01786717e-03,  5.69269423e-03,\n",
       "         2.99275930e-02, -1.50556842e-03, -2.16823662e-02,\n",
       "         9.55939983e-03, -4.41655383e-03, -2.76068623e-06,\n",
       "        -2.70315555e-03, -3.05477345e-03, -5.13286395e-03,\n",
       "        -1.98103425e-02, -3.82296482e-03, -7.68301967e-03,\n",
       "        -1.56159090e-02, -2.57568395e-02,  9.19356392e-03,\n",
       "        -1.96939414e-02,  2.86121382e-03, -5.40684396e-03,\n",
       "        -5.58167519e-04, -1.25246679e-02,  2.43573755e-03,\n",
       "        -2.09490919e-03, -9.56557351e-03, -4.67964625e-03,\n",
       "        -5.67959805e-03, -1.02291688e-02, -3.82296482e-03,\n",
       "        -3.96221313e-03, -1.70310658e-02, -3.89915245e-03,\n",
       "        -6.02629606e-03, -4.68231039e-03, -3.89733885e-03,\n",
       "        -4.56253226e-03, -7.82748212e-03, -1.45103901e-02,\n",
       "        -1.64048191e-02, -2.25404150e-06, -8.10556257e-03,\n",
       "        -1.64786025e-02,  1.32481158e-02, -1.76950848e-02,\n",
       "        -1.48431302e-02, -1.04644655e-02,  5.11026564e-02,\n",
       "        -1.59381312e-06,  6.08547064e-02, -1.77202017e-02,\n",
       "        -3.35508829e-03, -8.84513318e-03, -3.42161090e-03,\n",
       "        -1.46544503e-02, -1.30328623e-02, -2.44236253e-02,\n",
       "        -4.67964625e-03, -9.63788038e-03, -2.96185558e-04,\n",
       "        -1.30996823e-02, -1.13161828e-02, -5.00396438e-03,\n",
       "        -2.70315555e-03, -3.62888656e-03,  1.06862416e-03,\n",
       "        -4.72642608e-03,  2.21495671e-02, -5.56277777e-03,\n",
       "        -5.52246111e-06,  6.60212608e-03,  1.68849246e-03,\n",
       "         6.88766899e-03,  1.06227419e-02,  2.16491584e-02,\n",
       "        -1.41274524e-02, -1.12537281e-02,  4.01212274e-03,\n",
       "         2.44056649e-02,  1.83325546e-02,  4.67739228e-03,\n",
       "        -1.41159123e-02, -2.90280475e-03, -1.59275261e-02,\n",
       "         5.77057705e-03,  1.31363836e-02,  1.37777818e-02,\n",
       "         1.40341753e-02, -1.02632587e-03, -3.77906917e-02,\n",
       "         9.82666693e-03,  6.61813023e-03, -1.03795803e-02,\n",
       "        -3.39317493e-02,  4.15357317e-03,  1.66191656e-02,\n",
       "        -8.10811229e-03,  5.98087133e-03, -2.70315555e-03,\n",
       "         4.67641891e-03,  2.28192027e-03,  8.83822020e-03,\n",
       "         2.17260268e-02,  4.67554789e-03,  1.12828511e-02,\n",
       "         1.38327949e-02,  2.24443322e-02, -1.19276273e-02,\n",
       "         2.00306753e-02, -3.77284916e-04,  2.95568284e-03,\n",
       "        -1.64031117e-03,  8.64750031e-03, -5.73520107e-03,\n",
       "         4.67641891e-03,  1.30296146e-02,  6.61490403e-03,\n",
       "         5.82356695e-03,  1.44965003e-02,  3.81744345e-03,\n",
       "        -6.57376366e-06,  1.83691494e-02,  7.42658143e-03,\n",
       "         9.45106231e-03,  2.95568284e-03,  4.22860516e-03,\n",
       "         2.18572716e-03,  6.07724902e-03,  1.24012898e-02,\n",
       "         1.85232726e-02,  3.81744345e-03,  8.10165850e-03,\n",
       "         2.26213753e-02, -1.86576072e-02,  1.04401700e-02,\n",
       "         1.48813650e-02,  1.04594252e-02, -5.39875348e-02,\n",
       "        -1.59381312e-06, -6.44711050e-02,  1.90464796e-02,\n",
       "         2.97322570e-03,  5.30230884e-03,  2.64001800e-03,\n",
       "         1.46815119e-02,  1.63965271e-02,  2.24699934e-02,\n",
       "         4.67739228e-03,  1.12472574e-02, -1.10009070e-03,\n",
       "         1.59869145e-02,  1.08090217e-02,  1.09575133e-02,\n",
       "        -1.59381312e-06,  4.22860516e-03, -3.04032844e-03,\n",
       "         1.92840166e-04,  2.77505060e-03, -6.72356800e-05,\n",
       "        -2.07463616e-03,  4.91724506e-03, -4.02146099e-03,\n",
       "         6.83798472e-03,  1.14396019e-03,  1.23489225e-03,\n",
       "        -4.76242413e-03, -6.96861279e-05,  2.28592231e-03,\n",
       "        -1.44976808e-03, -1.51494154e-03]])"
      ]
     },
     "execution_count": 13,
     "metadata": {},
     "output_type": "execute_result"
    }
   ],
   "source": [
    "################## Naive Bayes ####################################\n",
    "\n",
    "gaussian_classifier = GaussianNB()\n",
    "gaussian_classifier.fit(X_train, y_train)\n",
    "\n",
    "y_pred = gaussian_classifier.predict(X_test)\n",
    "\n",
    "cm = confusion_matrix(y_test, y_pred)\n",
    "print(\"Confusion Matrix:\\n\", cm)\n",
    "acc = accuracy_score(y_test, y_pred)\n",
    "print(\"Accuracy Score:\\n\", acc)\n",
    "print(\"Training set score: {:.3f}\".format(gaussian_classifier.score(X_train,y_train)))\n",
    "print(\"Test set score: {:.3f}\".format(gaussian_classifier.score(X_test,y_test)))\n",
    "\n",
    "report = classification_report(y_test,y_pred)  \n",
    "print(report)\n",
    "\n",
    "gaussian_classifier.class_count_\n",
    "gaussian_classifier.classes_\n",
    "gaussian_classifier.epsilon_\n",
    "gaussian_classifier.theta_"
   ]
  },
  {
   "cell_type": "code",
   "execution_count": 14,
   "id": "characteristic-speech",
   "metadata": {},
   "outputs": [
    {
     "name": "stdout",
     "output_type": "stream",
     "text": [
      "Mean F1 Score = 59.94% - SD F1 Score = 0.81%\n",
      "Mean Recall Score = 59.97% - SD Recall = 1.06%\n",
      "Mean Precision Score = 59.93% - SD Precision = 1.08%\n"
     ]
    }
   ],
   "source": [
    "# try naive bayes using kfold\n",
    "\n",
    "scoring = {'accuracy' : make_scorer(accuracy_score), \n",
    "           'precision' : make_scorer(precision_score),\n",
    "           'recall' : make_scorer(recall_score), \n",
    "           'f1_score' : make_scorer(f1_score)}\n",
    "\n",
    "kfold = KFold(n_splits=10) #, random_state=7)\n",
    "result1 = cross_val_score(gaussian_classifier, X, y, cv=kfold, scoring='f1')\n",
    "result2 = cross_val_score(gaussian_classifier, X, y, cv=kfold, scoring='recall')\n",
    "result3 = cross_val_score(gaussian_classifier, X, y, cv=kfold, scoring='precision')\n",
    "print(\"Mean F1 Score = %.2f%% - SD F1 Score = %.2f%%\" % (result1.mean()*100, result1.std()*100 ))  \n",
    "print(\"Mean Recall Score = %.2f%% - SD Recall = %.2f%%\" % (result2.mean()*100, result2.std()*100 ))\n",
    "print(\"Mean Precision Score = %.2f%% - SD Precision = %.2f%%\" % (result3.mean()*100, result3.std()*100 ))"
   ]
  },
  {
   "cell_type": "code",
   "execution_count": null,
   "id": "confused-march",
   "metadata": {},
   "outputs": [],
   "source": [
    "################## SVM ######################################\n",
    "'''\n",
    "svm_classifier = SVC(kernel = 'linear', random_state = 0)\n",
    "svm_classifier.fit(X_train, y_train)\n",
    "y_pred = svm_classifier.predict(X_test)\n",
    "\n",
    "cm = confusion_matrix(y_test, y_pred)\n",
    "print(\"Confusion Matrix:\\n\", cm)\n",
    "acc = accuracy_score(y_test, y_pred)\n",
    "print(\"Accuracy Score:\\n\", acc)\n",
    "print(\"Training set score: {:.3f}\".format(svm_classifier.score(X_train,y_train)))\n",
    "print(\"Test set score: {:.3f}\".format(svm_classifier.score(X_test,y_test)))\n",
    "\n",
    "report = classification_report(y_test,y_pred)  \n",
    "print(report)\n",
    "'''"
   ]
  },
  {
   "cell_type": "code",
   "execution_count": null,
   "id": "commercial-colon",
   "metadata": {},
   "outputs": [],
   "source": [
    "# try SVM using kfold\n",
    "'''\n",
    "scoring = {'accuracy' : make_scorer(accuracy_score), \n",
    "           'precision' : make_scorer(precision_score),\n",
    "           'recall' : make_scorer(recall_score), \n",
    "           'f1_score' : make_scorer(f1_score)}\n",
    "\n",
    "kfold = KFold(n_splits=10) #, random_state=7)\n",
    "result1 = cross_val_score(svm_classifier, X, y, cv=kfold, scoring='f1')\n",
    "result2 = cross_val_score(svm_classifier, X, y, cv=kfold, scoring='recall')\n",
    "result3 = cross_val_score(svm_classifier, X, y, cv=kfold, scoring='precision')\n",
    "print(\"Mean F1 Score = %.2f%% - SD F1 Score = %.2f%%\" % (result1.mean()*100, result1.std()*100 ))  \n",
    "print(\"Mean Recall Score = %.2f%% - SD Recall = %.2f%%\" % (result2.mean()*100, result2.std()*100 ))\n",
    "print(\"Mean Precision Score = %.2f%% - SD Precision = %.2f%%\" % (result3.mean()*100, result3.std()*100 ))\n",
    "'''"
   ]
  },
  {
   "cell_type": "code",
   "execution_count": 15,
   "id": "threatened-grass",
   "metadata": {},
   "outputs": [
    {
     "name": "stdout",
     "output_type": "stream",
     "text": [
      "Confusion Matrix:\n",
      " [[3380 2334]\n",
      " [2389 3314]]\n",
      "Accuracy Score:\n",
      " 0.5863186476307262\n",
      "Training set score: 1.000\n",
      "Test set score: 0.586\n",
      "              precision    recall  f1-score   support\n",
      "\n",
      "         0.0       0.59      0.59      0.59      5714\n",
      "         1.0       0.59      0.58      0.58      5703\n",
      "\n",
      "    accuracy                           0.59     11417\n",
      "   macro avg       0.59      0.59      0.59     11417\n",
      "weighted avg       0.59      0.59      0.59     11417\n",
      "\n"
     ]
    }
   ],
   "source": [
    "################## Decision Tree #####################################\n",
    "\n",
    "dtree_classifier = DecisionTreeClassifier(criterion = 'entropy')\n",
    "dtree_classifier.fit(X_train, y_train)\n",
    "\n",
    "y_pred = dtree_classifier.predict(X_test)\n",
    "\n",
    "cm = confusion_matrix(y_test, y_pred)\n",
    "print(\"Confusion Matrix:\\n\", cm)\n",
    "acc = accuracy_score(y_test, y_pred)\n",
    "print(\"Accuracy Score:\\n\", acc)\n",
    "print(\"Training set score: {:.3f}\".format(dtree_classifier.score(X_train,y_train)))\n",
    "print(\"Test set score: {:.3f}\".format(dtree_classifier.score(X_test,y_test)))\n",
    "\n",
    "report = classification_report(y_test,y_pred)  \n",
    "print(report)"
   ]
  },
  {
   "cell_type": "code",
   "execution_count": 16,
   "id": "studied-vintage",
   "metadata": {},
   "outputs": [
    {
     "name": "stdout",
     "output_type": "stream",
     "text": [
      "Mean F1 Score = 58.80% - SD F1 Score = 0.72%\n",
      "Mean Recall Score = 59.05% - SD Recall = 1.02%\n",
      "Mean Precision Score = 58.99% - SD Precision = 0.75%\n"
     ]
    }
   ],
   "source": [
    "# try Decision Tree using kfold\n",
    "kfold = KFold(n_splits=10) #, random_state=7)\n",
    "result1 = cross_val_score(dtree_classifier, X, y, cv=kfold, scoring='f1')\n",
    "result2 = cross_val_score(dtree_classifier, X, y, cv=kfold, scoring='recall')\n",
    "result3 = cross_val_score(dtree_classifier, X, y, cv=kfold, scoring='precision')\n",
    "print(\"Mean F1 Score = %.2f%% - SD F1 Score = %.2f%%\" % (result1.mean()*100, result1.std()*100 ))  \n",
    "print(\"Mean Recall Score = %.2f%% - SD Recall = %.2f%%\" % (result2.mean()*100, result2.std()*100 ))\n",
    "print(\"Mean Precision Score = %.2f%% - SD Precision = %.2f%%\" % (result3.mean()*100, result3.std()*100 ))"
   ]
  },
  {
   "cell_type": "code",
   "execution_count": 17,
   "id": "driving-proposition",
   "metadata": {},
   "outputs": [
    {
     "name": "stdout",
     "output_type": "stream",
     "text": [
      "Confusion Matrix:\n",
      " [[4008 1706]\n",
      " [2594 3109]]\n",
      "Accuracy Score:\n",
      " 0.6233686607690286\n",
      "Training set score: 0.986\n",
      "Test set score: 0.623\n",
      "              precision    recall  f1-score   support\n",
      "\n",
      "         0.0       0.61      0.70      0.65      5714\n",
      "         1.0       0.65      0.55      0.59      5703\n",
      "\n",
      "    accuracy                           0.62     11417\n",
      "   macro avg       0.63      0.62      0.62     11417\n",
      "weighted avg       0.63      0.62      0.62     11417\n",
      "\n"
     ]
    }
   ],
   "source": [
    "################## Random Forest ######################################\n",
    "\n",
    "rf_classifier = RandomForestClassifier(n_estimators = 10, criterion = 'entropy', random_state = 0)\n",
    "rf_classifier.fit(X_train, y_train)\n",
    "\n",
    "y_pred = rf_classifier.predict(X_test)\n",
    "\n",
    "cm = confusion_matrix(y_test, y_pred)\n",
    "print(\"Confusion Matrix:\\n\", cm)\n",
    "acc = accuracy_score(y_test, y_pred)\n",
    "print(\"Accuracy Score:\\n\", acc)\n",
    "print(\"Training set score: {:.3f}\".format(rf_classifier.score(X_train,y_train)))\n",
    "print(\"Test set score: {:.3f}\".format(rf_classifier.score(X_test,y_test)))\n",
    "\n",
    "#Analyze the results of Random Forest\n",
    "report = classification_report(y_test,y_pred)  \n",
    "print(report)"
   ]
  },
  {
   "cell_type": "code",
   "execution_count": 18,
   "id": "middle-nirvana",
   "metadata": {},
   "outputs": [
    {
     "name": "stdout",
     "output_type": "stream",
     "text": [
      "Mean F1 Score = 60.06% - SD F1 Score = 0.70%\n",
      "Mean Recall Score = 55.57% - SD Recall = 1.06%\n",
      "Mean Precision Score = 65.36% - SD Precision = 0.89%\n"
     ]
    }
   ],
   "source": [
    "# try Random Forest using kfold\n",
    "kfold = KFold(n_splits=10) #, random_state=7)\n",
    "result1 = cross_val_score(rf_classifier, X, y, cv=kfold, scoring='f1')\n",
    "result2 = cross_val_score(rf_classifier, X, y, cv=kfold, scoring='recall')\n",
    "result3 = cross_val_score(rf_classifier, X, y, cv=kfold, scoring='precision')\n",
    "print(\"Mean F1 Score = %.2f%% - SD F1 Score = %.2f%%\" % (result1.mean()*100, result1.std()*100 ))  \n",
    "print(\"Mean Recall Score = %.2f%% - SD Recall = %.2f%%\" % (result2.mean()*100, result2.std()*100 ))\n",
    "print(\"Mean Precision Score = %.2f%% - SD Precision = %.2f%%\" % (result3.mean()*100, result3.std()*100 ))"
   ]
  },
  {
   "cell_type": "code",
   "execution_count": 19,
   "id": "moderate-bolivia",
   "metadata": {},
   "outputs": [
    {
     "name": "stdout",
     "output_type": "stream",
     "text": [
      "Confusion Matrix:\n",
      " [[3689 2025]\n",
      " [1935 3768]]\n",
      "Accuracy Score:\n",
      " 0.653148813173338\n",
      "Training set score: 0.678\n",
      "Test set score: 0.653\n",
      "              precision    recall  f1-score   support\n",
      "\n",
      "         0.0       0.66      0.65      0.65      5714\n",
      "         1.0       0.65      0.66      0.66      5703\n",
      "\n",
      "    accuracy                           0.65     11417\n",
      "   macro avg       0.65      0.65      0.65     11417\n",
      "weighted avg       0.65      0.65      0.65     11417\n",
      "\n"
     ]
    }
   ],
   "source": [
    "################## XG Boost ######################################################\n",
    "\n",
    "xgb_classifier = XGBClassifier()\n",
    "xgb_classifier.fit(X_train, y_train)\n",
    "\n",
    "y_pred = xgb_classifier.predict(X_test)\n",
    "\n",
    "cm = confusion_matrix(y_test, y_pred)\n",
    "print(\"Confusion Matrix:\\n\", cm)\n",
    "acc = accuracy_score(y_test, y_pred)\n",
    "print(\"Accuracy Score:\\n\", acc)\n",
    "print(\"Training set score: {:.3f}\".format(xgb_classifier.score(X_train,y_train)))\n",
    "print(\"Test set score: {:.3f}\".format(xgb_classifier.score(X_test,y_test)))\n",
    "\n",
    "report = classification_report(y_test,y_pred)  \n",
    "print(report)"
   ]
  },
  {
   "cell_type": "code",
   "execution_count": 20,
   "id": "stock-ottawa",
   "metadata": {},
   "outputs": [
    {
     "name": "stdout",
     "output_type": "stream",
     "text": [
      "Mean F1 Score = 66.64% - SD F1 Score = 0.54%\n",
      "Mean Recall Score = 66.62% - SD Recall = 0.76%\n",
      "Mean Precision Score = 66.68% - SD Precision = 0.85%\n"
     ]
    }
   ],
   "source": [
    "# try XGBoost using kfold\n",
    "kfold = KFold(n_splits=10) #, random_state=7)\n",
    "result1 = cross_val_score(xgb_classifier, X, y, cv=kfold, scoring='f1')\n",
    "result2 = cross_val_score(xgb_classifier, X, y, cv=kfold, scoring='recall')\n",
    "result3 = cross_val_score(xgb_classifier, X, y, cv=kfold, scoring='precision')\n",
    "print(\"Mean F1 Score = %.2f%% - SD F1 Score = %.2f%%\" % (result1.mean()*100, result1.std()*100 ))  \n",
    "print(\"Mean Recall Score = %.2f%% - SD Recall = %.2f%%\" % (result2.mean()*100, result2.std()*100 ))\n",
    "print(\"Mean Precision Score = %.2f%% - SD Precision = %.2f%%\" % (result3.mean()*100, result3.std()*100 ))"
   ]
  },
  {
   "cell_type": "code",
   "execution_count": 21,
   "id": "canadian-weekly",
   "metadata": {},
   "outputs": [
    {
     "name": "stdout",
     "output_type": "stream",
     "text": [
      "Confusion Matrix:\n",
      " [[3256 2458]\n",
      " [2527 3176]]\n",
      "Accuracy Score:\n",
      " 0.5633704125426995\n",
      "Training set score: 0.726\n",
      "Test set score: 0.563\n",
      "              precision    recall  f1-score   support\n",
      "\n",
      "         0.0       0.56      0.57      0.57      5714\n",
      "         1.0       0.56      0.56      0.56      5703\n",
      "\n",
      "    accuracy                           0.56     11417\n",
      "   macro avg       0.56      0.56      0.56     11417\n",
      "weighted avg       0.56      0.56      0.56     11417\n",
      "\n"
     ]
    }
   ],
   "source": [
    "################## K-Nearest Neighbors ###########################################\n",
    "\n",
    "knn_classifier = KNeighborsClassifier(n_neighbors = 5, metric = 'minkowski', p = 2)\n",
    "knn_classifier .fit(X_train, y_train)\n",
    "\n",
    "y_pred = knn_classifier.predict(X_test)\n",
    "\n",
    "cm = confusion_matrix(y_test, y_pred)\n",
    "print(\"Confusion Matrix:\\n\", cm)\n",
    "acc = accuracy_score(y_test, y_pred)\n",
    "print(\"Accuracy Score:\\n\", acc)\n",
    "print(\"Training set score: {:.3f}\".format(knn_classifier.score(X_train,y_train)))\n",
    "print(\"Test set score: {:.3f}\".format(knn_classifier.score(X_test,y_test)))\n",
    "\n",
    "report = classification_report(y_test,y_pred)  \n",
    "print(report)"
   ]
  },
  {
   "cell_type": "code",
   "execution_count": 22,
   "id": "conceptual-destination",
   "metadata": {},
   "outputs": [
    {
     "name": "stdout",
     "output_type": "stream",
     "text": [
      "Mean F1 Score = 61.61% - SD F1 Score = 0.59%\n",
      "Mean Recall Score = 61.54% - SD Recall = 0.73%\n",
      "Mean Precision Score = 61.70% - SD Precision = 1.07%\n"
     ]
    }
   ],
   "source": [
    "# try KNN using kfold\n",
    "kfold = KFold(n_splits=10) #, random_state=7)\n",
    "result1 = cross_val_score(knn_classifier, X, y, cv=kfold, scoring='f1')\n",
    "result2 = cross_val_score(knn_classifier, X, y, cv=kfold, scoring='recall')\n",
    "result3 = cross_val_score(knn_classifier, X, y, cv=kfold, scoring='precision')\n",
    "print(\"Mean F1 Score = %.2f%% - SD F1 Score = %.2f%%\" % (result1.mean()*100, result1.std()*100 ))  \n",
    "print(\"Mean Recall Score = %.2f%% - SD Recall = %.2f%%\" % (result2.mean()*100, result2.std()*100 ))\n",
    "print(\"Mean Precision Score = %.2f%% - SD Precision = %.2f%%\" % (result3.mean()*100, result3.std()*100 ))"
   ]
  },
  {
   "cell_type": "code",
   "execution_count": null,
   "id": "unexpected-resolution",
   "metadata": {},
   "outputs": [],
   "source": []
  }
 ],
 "metadata": {
  "kernelspec": {
   "display_name": "Python 3",
   "language": "python",
   "name": "python3"
  },
  "language_info": {
   "codemirror_mode": {
    "name": "ipython",
    "version": 3
   },
   "file_extension": ".py",
   "mimetype": "text/x-python",
   "name": "python",
   "nbconvert_exporter": "python",
   "pygments_lexer": "ipython3",
   "version": "3.7.9"
  }
 },
 "nbformat": 4,
 "nbformat_minor": 5
}
